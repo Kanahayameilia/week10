{
  "nbformat": 4,
  "nbformat_minor": 0,
  "metadata": {
    "colab": {
      "provenance": []
    },
    "kernelspec": {
      "name": "python3",
      "display_name": "Python 3"
    },
    "language_info": {
      "name": "python"
    }
  },
  "cells": [
    {
      "cell_type": "markdown",
      "source": [
        "Membuat dan memanggil sebuah fungsi"
      ],
      "metadata": {
        "id": "OvX6HX5XkdgR"
      }
    },
    {
      "cell_type": "code",
      "source": [
        "def fungsi():\n",
        "  print(\"Halo, aku menggunakan fungsi\")\n",
        "fungsi()"
      ],
      "metadata": {
        "colab": {
          "base_uri": "https://localhost:8080/"
        },
        "id": "p6CwXg0gkiHH",
        "outputId": "df00c358-0487-4d56-82fb-6cfede7fe82b"
      },
      "execution_count": 1,
      "outputs": [
        {
          "output_type": "stream",
          "name": "stdout",
          "text": [
            "Halo, aku menggunakan fungsi\n"
          ]
        }
      ]
    },
    {
      "cell_type": "markdown",
      "source": [
        "Argumen"
      ],
      "metadata": {
        "id": "KiyJJwielKE3"
      }
    },
    {
      "cell_type": "code",
      "source": [
        "def fungsi(fname):\n",
        "  print(fname + \"Sugiono\")\n",
        "\n",
        "fungsi(\"anaya\")\n",
        "fungsi(\"lia\")\n",
        "fungsi(\"meilia\")"
      ],
      "metadata": {
        "colab": {
          "base_uri": "https://localhost:8080/"
        },
        "id": "lLiLtFJ7lLLv",
        "outputId": "eaaf6e4f-d518-48a7-9869-38383079df60"
      },
      "execution_count": 2,
      "outputs": [
        {
          "output_type": "stream",
          "name": "stdout",
          "text": [
            "anaya Sugiono\n",
            "lia Sugiono\n",
            "meilia Sugiono\n"
          ]
        }
      ]
    },
    {
      "cell_type": "markdown",
      "source": [
        "Jumlah Argumen"
      ],
      "metadata": {
        "id": "VFJXiuh7mPCY"
      }
    },
    {
      "cell_type": "code",
      "source": [
        "def no_of_argu(*args):\n",
        "\n",
        "    # using len() method in args to count\n",
        "    return(len(args))\n",
        "\n",
        "\n",
        "a = 1\n",
        "b = 3\n",
        "\n",
        "# arguments passed\n",
        "n = no_of_argu(1, 2, 4, a)\n",
        "\n",
        "# result printed\n",
        "print(\" The number of arguments are: \", n)\n"
      ],
      "metadata": {
        "colab": {
          "base_uri": "https://localhost:8080/"
        },
        "id": "-qn-_dWvmRVf",
        "outputId": "9be34b32-5f60-46d7-c80d-e9a3b179472f"
      },
      "execution_count": 3,
      "outputs": [
        {
          "output_type": "stream",
          "name": "stdout",
          "text": [
            " The number of arguments are:  4\n"
          ]
        }
      ]
    },
    {
      "cell_type": "markdown",
      "source": [
        "Quiz\n",
        "1. Create function named my_function with print output your name and then write code to execute it"
      ],
      "metadata": {
        "id": "cYX8UGdNnhnn"
      }
    },
    {
      "cell_type": "code",
      "source": [
        "def my_function():\n",
        "  print(\"Kanahaya Meilia Sakti\")\n",
        "my_function()"
      ],
      "metadata": {
        "colab": {
          "base_uri": "https://localhost:8080/"
        },
        "id": "IxFFyrsyn6Kg",
        "outputId": "0cebd4f2-8658-449d-eee1-67c782d3ee55"
      },
      "execution_count": 4,
      "outputs": [
        {
          "output_type": "stream",
          "name": "stdout",
          "text": [
            "Kanahaya Meilia Sakti\n"
          ]
        }
      ]
    },
    {
      "cell_type": "markdown",
      "source": [
        "2. Buat fungsi dengan dua parameter, cetak parameter pertama!"
      ],
      "metadata": {
        "id": "_aubjcropPT_"
      }
    },
    {
      "cell_type": "code",
      "source": [
        "def cetak_parameter_pertama(parameter1, parameter2):\n",
        "\n",
        "  print(parameter1)\n",
        "\n",
        "cetak_parameter_pertama(\"Halo\", \"Laprak\")\n",
        "cetak_parameter_pertama(123, 456)"
      ],
      "metadata": {
        "colab": {
          "base_uri": "https://localhost:8080/"
        },
        "id": "FICofK8qpQ4X",
        "outputId": "1d75478d-6763-42b9-aff3-ff4fdd4a1e8f"
      },
      "execution_count": 5,
      "outputs": [
        {
          "output_type": "stream",
          "name": "stdout",
          "text": [
            "Halo\n",
            "123\n"
          ]
        }
      ]
    },
    {
      "cell_type": "markdown",
      "source": [
        "Weekly Exercise 1\n",
        "Buatlah kode program untuk menghitung nilai faktorial dari bilangan yang diinputkan oleh pengguna dengan memanfaatkan fungsi rekursif!"
      ],
      "metadata": {
        "id": "auGTtt6_sb6f"
      }
    },
    {
      "cell_type": "code",
      "source": [
        "def faktorial(x):\n",
        "    if x == 1:\n",
        "        return 1\n",
        "    else:\n",
        "        return (x * faktorial(x-1))\n",
        "\n",
        "faktorial(2)"
      ],
      "metadata": {
        "colab": {
          "base_uri": "https://localhost:8080/"
        },
        "id": "XSOroCSesi0H",
        "outputId": "69fa5fd9-be61-4896-bbe4-e94a8431647a"
      },
      "execution_count": 6,
      "outputs": [
        {
          "output_type": "execute_result",
          "data": {
            "text/plain": [
              "2"
            ]
          },
          "metadata": {},
          "execution_count": 6
        }
      ]
    },
    {
      "cell_type": "markdown",
      "source": [
        "Weekly exercise 2 Buatlah kalkulator untuk menghitung luas bangun datar lingkaran, persegi dan segitiga dengan memanfaatkan fungsi, >masing-masing kode program dimasukkan ke dalam fungsi yang berbeda,pengguna diberikan pilihan perhitungan,sebelum dipilih selesai program tidak akan berhenti"
      ],
      "metadata": {
        "id": "opEKKO1Nul9e"
      }
    },
    {
      "cell_type": "code",
      "source": [
        "import math\n",
        "\n",
        "def luas_lingkaran(jari_jari):\n",
        "  return math.pi * jari_jari**2\n",
        "\n",
        "def luas_persegi(sisi):\n",
        "  return sisi**2\n",
        "\n",
        "def luas_segitiga(alas, tinggi):\n",
        "  return 0.5 * alas * tinggi\n",
        "\n",
        "while True:\n",
        "  print(\"\\nPilihan Perhitungan:\")\n",
        "  print(\"1. Luas Lingkaran\")\n",
        "  print(\"2. Luas Persegi\")\n",
        "  print(\"3. Luas Segitiga\")\n",
        "  print(\"4. Selesai\")\n",
        "\n",
        "  pilihan = input(\"Masukkan pilihan Anda (1/2/3/4): \")\n",
        "\n",
        "  if pilihan == '1':\n",
        "    jari_jari = float(input(\"Masukkan jari-jari lingkaran: \"))\n",
        "    luas = luas_lingkaran(jari_jari)\n",
        "    print(\"Luas lingkaran:\", luas)\n",
        "  elif pilihan == '2':\n",
        "    sisi = float(input(\"Masukkan panjang sisi persegi: \"))\n",
        "    luas = luas_persegi(sisi)\n",
        "    print(\"Luas persegi:\", luas)\n",
        "  elif pilihan == '3':\n",
        "    alas = float(input(\"Masukkan panjang alas segitiga: \"))\n",
        "    tinggi = float(input(\"Masukkan tinggi segitiga: \"))\n",
        "    luas = luas_segitiga(alas, tinggi)\n",
        "    print(\"Luas segitiga:\", luas)\n",
        "  elif pilihan == '4':\n",
        "    break\n",
        "  else:\n",
        "    print(\"Pilihan tidak valid. Silakan coba lagi.\")\n",
        "\n",
        "print(\"Program selesai.\")"
      ],
      "metadata": {
        "colab": {
          "base_uri": "https://localhost:8080/"
        },
        "id": "yxG6NCPHutmn",
        "outputId": "08e25aab-057f-4316-e2e0-fbb65e013ec0"
      },
      "execution_count": 7,
      "outputs": [
        {
          "output_type": "stream",
          "name": "stdout",
          "text": [
            "\n",
            "Pilihan Perhitungan:\n",
            "1. Luas Lingkaran\n",
            "2. Luas Persegi\n",
            "3. Luas Segitiga\n",
            "4. Selesai\n",
            "Masukkan pilihan Anda (1/2/3/4): 1\n",
            "Masukkan jari-jari lingkaran: 30\n",
            "Luas lingkaran: 2827.4333882308138\n",
            "\n",
            "Pilihan Perhitungan:\n",
            "1. Luas Lingkaran\n",
            "2. Luas Persegi\n",
            "3. Luas Segitiga\n",
            "4. Selesai\n",
            "Masukkan pilihan Anda (1/2/3/4): 4\n",
            "Program selesai.\n"
          ]
        }
      ]
    }
  ]
}